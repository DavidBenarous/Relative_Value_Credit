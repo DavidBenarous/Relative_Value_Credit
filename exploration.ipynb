{
 "cells": [
  {
   "cell_type": "markdown",
   "metadata": {},
   "source": [
    "# Relative Value Credit Analysis\n",
    "\n",
    "This notebook explores the features of the relative value credit analysis framework. We will walk through the full pipeline, from data loading to backtesting, for two pairs of credit default swap (CDS) indices."
   ]
  },
  {
   "cell_type": "markdown",
   "metadata": {},
   "source": [
    "## 1. Load and Prepare Data\n",
    "\n",
    "First, we load the data for our two pairs of tickers. We use the `data_agent` to handle loading the CSV files, cleaning them by forward-filling missing values, and synchronizing the time series to a common date index. We'll use the following pairs:\n",
    "\n",
    "- **Pair 1:** `CDXTEL15` and `CDXTHL15`\n",
    "- **Pair 2:** `ITRXTE5I` and `ITRXTEXM`"
   ]
  },
  {
   "cell_type": "code",
   "execution_count": null,
   "metadata": {},
   "outputs": [],
   "source": [
    "import sys\n",
    "import os\n",
    "# Add src to the python path\n",
    "sys.path.append(os.path.abspath('src'))\n",
    "\n",
    "import data_agent as da\n",
    "\n",
    "# --- Pair 1 ---\n",
    "ticker_x1 = 'CDXTEL15'\n",
    "ticker_y1 = 'CDXTHL15'\n",
    "\n",
    "# Load data\n",
    "data_x1 = da.load_data(ticker_x1)\n",
    "data_y1 = da.load_data(ticker_y1)\n",
    "\n",
    "# Clean data\n",
    "data_x1_clean = da.clean_data(data_x1)\n",
    "data_y1_clean = da.clean_data(data_y1)\n",
    "\n",
    "# Synchronize data\n",
    "sync_x1, sync_y1 = da.synchronize_data(data_x1_clean, data_y1_clean)\n",
    "\n",
    "# --- Pair 2 ---\n",
    "ticker_x2 = 'ITRXTE5I'\n",
    "ticker_y2 = 'ITRXTEXM'\n",
    "\n",
    "# Load data\n",
    "data_x2 = da.load_data(ticker_x2)\n",
    "data_y2 = da.load_data(ticker_y2)\n",
    "\n",
    "# Clean data\n",
    "data_x2_clean = da.clean_data(data_x2)\n",
    "data_y2_clean = da.clean_data(data_y2)\n",
    "\n",
    "# Synchronize data\n",
    "sync_x2, sync_y2 = da.synchronize_data(data_x2_clean, data_y2_clean)\n",
    "\n",
    "print(\"Data loaded and prepared for both pairs.\")\n",
    "print(\"Pair 1 shapes:\", sync_x1.shape, sync_y1.shape)\n",
    "print(\"Pair 2 shapes:\", sync_x2.shape, sync_y2.shape)"
   ]
  },
  {
   "cell_type": "markdown",
   "metadata": {},
   "source": [
    "## 2. Run Modeling Pipeline\n",
    "\n",
    "Next, we run the modeling pipeline on our prepared data. This involves two main steps:\n",
    "\n",
    "1.  **Linear Regression:** We calculate the `beta` (hedge ratio) and `residuals` between the two series over a long-term lookback window.\n",
    "2.  **Ornstein-Uhlenbeck (OU) Process:** We fit an OU process to the residuals to model their mean-reverting behavior. This gives us the parameters `theta` (speed of reversion), `mu` (long-term mean), and `sigma` (volatility).\n",
    "\n",
    "We use different lookback parameters for each pair to demonstrate flexibility."
   ]
  },
  {
   "cell_type": "code",
   "execution_count": null,
   "metadata": {},
   "outputs": [],
   "source": [
    "import modeling_agent as ma\n",
    "\n",
    "# --- Pair 1 Modeling ---\n",
    "regression_lookback1 = '2Y'\n",
    "ou_lookback1 = '26W'\n",
    "\n",
    "beta1, residuals1, theta1, mu1, sigma1 = ma.run_modeling_pipeline(\n",
    "    sync_x1['PX_LAST'],\n",
    "    sync_y1['PX_LAST'],\n",
    "    regression_lookback1,\n",
    "    ou_lookback1\n",
    ")\n",
    "\n",
    "# --- Pair 2 Modeling ---\n",
    "regression_lookback2 = '3Y'\n",
    "ou_lookback2 = '52W'\n",
    "\n",
    "beta2, residuals2, theta2, mu2, sigma2 = ma.run_modeling_pipeline(\n",
    "    sync_x2['PX_LAST'],\n",
    "    sync_y2['PX_LAST'],\n",
    "    regression_lookback2,\n",
    "    ou_lookback2\n",
    ")\n",
    "\n",
    "print(\"--- Pair 1 Results ---\")\n",
    "print(f\"Beta: {beta1:.4f}\")\n",
    "print(f\"Theta: {theta1:.4f}\")\n",
    "print(f\"Mu: {mu1:.4f}\")\n",
    "print(f\"Sigma: {sigma1:.4f}\")\n",
    "print(f\"Is Mean Reverting: {ma.is_mean_reverting(theta1)}\")\n",
    "\n",
    "print(\"\\n--- Pair 2 Results ---\")\n",
    "print(f\"Beta: {beta2:.4f}\")\n",
    "print(f\"Theta: {theta2:.4f}\")\n",
    "print(f\"Mu: {mu2:.4f}\")\n",
    "print(f\"Sigma: {sigma2:.4f}\")\n",
    "print(f\"Is Mean Reverting: {ma.is_mean_reverting(theta2)}\")"
   ]
  },
  {
   "cell_type": "markdown",
   "metadata": {},
   "source": [
    "## 3. Generate Signals\n",
    "\n",
    "Now we generate trading signals from the modeling results. The signal is essentially a z-score of the current residual, normalized by the equilibrium volatility of the OU process. This tells us how far the current relationship has deviated from its long-term mean."
   ]
  },
  {
   "cell_type": "code",
   "execution_count": null,
   "metadata": {},
   "outputs": [],
   "source": [
    "import signal_agent as sa\n",
    "import pandas as pd\n",
    "\n",
    "# --- Pair 1 Signal ---\n",
    "eq_vol1 = sa.calculate_equilibrium_volatility(theta1, sigma1)\n",
    "signals1 = residuals1.apply(lambda r: sa.generate_signal(r, mu1, eq_vol1))\n",
    "\n",
    "# --- Pair 2 Signal ---\n",
    "eq_vol2 = sa.calculate_equilibrium_volatility(theta2, sigma2)\n",
    "signals2 = residuals2.apply(lambda r: sa.generate_signal(r, mu2, eq_vol2))\n",
    "\n",
    "print(\"--- Pair 1 Signal ---\")\n",
    "print(f\"Equilibrium Volatility: {eq_vol1:.4f}\")\n",
    "print(\"Last 5 signals:\")\n",
    "print(signals1.tail())\n",
    "\n",
    "print(\"\\n--- Pair 2 Signal ---\")\n",
    "print(f\"Equilibrium Volatility: {eq_vol2:.4f}\")\n",
    "print(\"Last 5 signals:\")\n",
    "print(signals2.tail())"
   ]
  },
  {
   "cell_type": "markdown",
   "metadata": {},
   "source": [
    "## 4. Run Backtest and Visualize\n",
    "\n",
    "Finally, we run a simple backtest to evaluate the performance of our signals and visualize the results. The backtest will long the spread when the signal is below a certain threshold (e.g., -1.5) and short it when the signal is above the threshold (e.g., 1.5). We'll also generate plots for:\n",
    "\n",
    "-   The time series of the residuals.\n",
    "-   The residuals with the fitted OU mean.\n",
    "-   The historical trading signals."
   ]
  },
  {
   "cell_type": "code",
   "execution_count": null,
   "metadata": {},
   "outputs": [],
   "source": [
    "import backtest_agent as ba\n",
    "\n",
    "# --- Pair 1 Backtest ---\n",
    "backtest_results1 = ba.run_backtest(sync_y1['PX_LAST'], signals1, signal_threshold=1.5)\n",
    "print(\"--- Pair 1 Backtest Results ---\")\n",
    "for metric, value in backtest_results1.items():\n",
    "    print(f\"{metric.replace('_', ' ').title()}: {value:.4f}\")\n",
    "\n",
    "# --- Pair 2 Backtest ---\n",
    "backtest_results2 = ba.run_backtest(sync_y2['PX_LAST'], signals2, signal_threshold=1.5)\n",
    "print(\"\\n--- Pair 2 Backtest Results ---\")\n",
    "for metric, value in backtest_results2.items():\n",
    "    print(f\"{metric.replace('_', ' ').title()}: {value:.4f}\")\n",
    "\n",
    "# --- Visualizations ---\n",
    "# Pair 1\n",
    "ba.plot_residuals(residuals1, 'residuals1.png')\n",
    "ba.plot_ou_fit(residuals1, mu1, 'ou_fit1.png')\n",
    "ba.plot_signal(signals1, 'signal1.png')\n",
    "\n",
    "# Pair 2\n",
    "ba.plot_residuals(residuals2, 'residuals2.png')\n",
    "ba.plot_ou_fit(residuals2, mu2, 'ou_fit2.png')\n",
    "ba.plot_signal(signals2, 'signal2.png')\n",
    "\n",
    "print(\"\\nVisualizations saved to files.\")"
   ]
  }
 ],
 "metadata": {
  "kernelspec": {
   "display_name": "Python 3",
   "language": "python",
   "name": "python3"
  },
  "language_info": {
   "codemirror_mode": {
    "name": "ipython",
    "version": 3
   },
   "file_extension": ".py",
   "mimetype": "text/x-python",
   "name": "python",
   "nbconvert_exporter": "python",
   "pygments_lexer": "ipython3",
   "version": "3.10.12"
  }
 },
 "nbformat": 4,
 "nbformat_minor": 5
}
